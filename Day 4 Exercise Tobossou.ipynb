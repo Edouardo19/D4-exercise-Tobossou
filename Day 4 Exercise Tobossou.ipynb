{
 "cells": [
  {
   "cell_type": "markdown",
   "metadata": {},
   "source": [
    "1. Round 4.5667 to the nearest hundreth using a build-in function, round()."
   ]
  },
  {
   "cell_type": "code",
   "execution_count": 2,
   "metadata": {},
   "outputs": [
    {
     "data": {
      "text/plain": [
       "4.57"
      ]
     },
     "execution_count": 2,
     "metadata": {},
     "output_type": "execute_result"
    }
   ],
   "source": [
    "round(4.5667, 2)"
   ]
  },
  {
   "cell_type": "markdown",
   "metadata": {},
   "source": [
    "2. Convert \"657\" to an integer data type"
   ]
  },
  {
   "cell_type": "code",
   "execution_count": 3,
   "metadata": {},
   "outputs": [
    {
     "data": {
      "text/plain": [
       "657"
      ]
     },
     "execution_count": 3,
     "metadata": {},
     "output_type": "execute_result"
    }
   ],
   "source": [
    "int(\"657\")"
   ]
  },
  {
   "cell_type": "markdown",
   "metadata": {},
   "source": [
    "3.\n",
    "Write a program to get two numbers from a user. Then, create a secret code where a code consists of 6 numbers and each number is randomly generated number between two numbers from a user. "
   ]
  },
  {
   "cell_type": "code",
   "execution_count": 5,
   "metadata": {},
   "outputs": [
    {
     "name": "stdout",
     "output_type": "stream",
     "text": [
      "Enter a starting number: 5\n",
      "Enter an ending number: 7\n",
      " a secret code between 5 and 7 is (5, 6, 6, 6, 5, 6)\n"
     ]
    }
   ],
   "source": [
    "import random as rand\n",
    "start = int(input(\"Enter a starting number: \"))\n",
    "end = int(input(\"Enter an ending number: \"))\n",
    "f = rand.randint(start, end)\n",
    "g = rand.randint(start, end)\n",
    "h = rand.randint(start, end)\n",
    "i = rand.randint(start, end)\n",
    "j = rand.randint(start, end)\n",
    "k = rand.randint(start, end)\n",
    "secret_code = (f,g,h,i,j,k)\n",
    "print(f\" a secret code between {start} and {end} is {secret_code}\")\n",
    "\n"
   ]
  },
  {
   "cell_type": "markdown",
   "metadata": {},
   "source": [
    "4.\n",
    "Write a program to center align below text where number of characters per line is 40:\n",
    "\n",
    "    Hickory, dickory, dock,\n",
    "    The mouse ran up the clock.\n",
    "    The clock struck one,\n",
    "    The mouse ran down,\n",
    "    Hickory, dickory, dock\n"
   ]
  },
  {
   "cell_type": "code",
   "execution_count": null,
   "metadata": {},
   "outputs": [],
   "source": [
    "line1 = \"Hickory, dickory, dock,\"\n",
    "line2 = \"The mouse ran up the clock.\"\n",
    "line3 = \"The clock struck one,\"\n",
    "line4 = \"The mouse ran down,\"\n",
    "line5 = \"Hickory, dickory, dock\"\n",
    "\n"
   ]
  },
  {
   "cell_type": "markdown",
   "metadata": {},
   "source": [
    "5. Write a function to calculate the miles per gallon.\n",
    "Get a miles driven and gallons used from a user and call your function to calculate the miles per gallon. "
   ]
  },
  {
   "cell_type": "code",
   "execution_count": null,
   "metadata": {},
   "outputs": [],
   "source": []
  }
 ],
 "metadata": {
  "kernelspec": {
   "display_name": "Python 3",
   "language": "python",
   "name": "python3"
  },
  "language_info": {
   "codemirror_mode": {
    "name": "ipython",
    "version": 3
   },
   "file_extension": ".py",
   "mimetype": "text/x-python",
   "name": "python",
   "nbconvert_exporter": "python",
   "pygments_lexer": "ipython3",
   "version": "3.8.8"
  }
 },
 "nbformat": 4,
 "nbformat_minor": 4
}
